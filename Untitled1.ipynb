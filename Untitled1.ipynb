{
 "cells": [
  {
   "cell_type": "code",
   "execution_count": 1,
   "id": "59ae9b86",
   "metadata": {},
   "outputs": [
    {
     "data": {
      "text/plain": [
       "<function __main__.<lambda>(a, b, c, d, e)>"
      ]
     },
     "execution_count": 1,
     "metadata": {},
     "output_type": "execute_result"
    }
   ],
   "source": [
    "lambda arguments : expression\n",
    "lambda a,b,c,d,e : a+b+c+d"
   ]
  },
  {
   "cell_type": "code",
   "execution_count": 2,
   "id": "71c6404b",
   "metadata": {},
   "outputs": [],
   "source": [
    "def add(a,b):\n",
    "    return a+b"
   ]
  },
  {
   "cell_type": "code",
   "execution_count": 3,
   "id": "694bfc38",
   "metadata": {},
   "outputs": [
    {
     "data": {
      "text/plain": [
       "167"
      ]
     },
     "execution_count": 3,
     "metadata": {},
     "output_type": "execute_result"
    }
   ],
   "source": [
    "add(78,89)"
   ]
  },
  {
   "cell_type": "code",
   "execution_count": 5,
   "id": "4ebf984d",
   "metadata": {},
   "outputs": [],
   "source": [
    "x=lambda a,b:a+b"
   ]
  },
  {
   "cell_type": "code",
   "execution_count": 6,
   "id": "df7c86f2",
   "metadata": {},
   "outputs": [
    {
     "name": "stdout",
     "output_type": "stream",
     "text": [
      "101\n"
     ]
    }
   ],
   "source": [
    "print(x(45,56))"
   ]
  },
  {
   "cell_type": "code",
   "execution_count": 7,
   "id": "b239b26d",
   "metadata": {},
   "outputs": [],
   "source": [
    "z=lambda x,y:x*y"
   ]
  },
  {
   "cell_type": "code",
   "execution_count": 8,
   "id": "7b6e1b79",
   "metadata": {},
   "outputs": [
    {
     "data": {
      "text/plain": [
       "2025"
      ]
     },
     "execution_count": 8,
     "metadata": {},
     "output_type": "execute_result"
    }
   ],
   "source": [
    "z(45,45)"
   ]
  },
  {
   "cell_type": "code",
   "execution_count": 23,
   "id": "897f275c",
   "metadata": {},
   "outputs": [
    {
     "ename": "SyntaxError",
     "evalue": "invalid syntax (3487049626.py, line 1)",
     "output_type": "error",
     "traceback": [
      "\u001b[1;36m  Input \u001b[1;32mIn [23]\u001b[1;36m\u001b[0m\n\u001b[1;33m    Built -in function in python\u001b[0m\n\u001b[1;37m           ^\u001b[0m\n\u001b[1;31mSyntaxError\u001b[0m\u001b[1;31m:\u001b[0m invalid syntax\n"
     ]
    }
   ],
   "source": [
    "Built -in function in python\n",
    "\n",
    "A\n",
    "\n",
    "abs()\n",
    "all()\n",
    "any()\n",
    "\n",
    "B\n",
    "\n",
    "bin()\n",
    "bool\n",
    "bytes\n",
    "\n",
    "C\n",
    "\n",
    "callable()\n",
    "compile()\n",
    "complex()\n",
    "classmethod()\n",
    "\n",
    "D\n",
    "\n",
    "dir()\n",
    "dict()\n",
    "delattr()\n",
    "\n",
    "E\n",
    "\n",
    "eval() \n",
    "exec()"
   ]
  },
  {
   "cell_type": "code",
   "execution_count": null,
   "id": "0a515267",
   "metadata": {},
   "outputs": [],
   "source": []
  },
  {
   "cell_type": "code",
   "execution_count": null,
   "id": "29e5c222",
   "metadata": {},
   "outputs": [],
   "source": []
  },
  {
   "cell_type": "code",
   "execution_count": null,
   "id": "9e74dc10",
   "metadata": {},
   "outputs": [],
   "source": []
  },
  {
   "cell_type": "code",
   "execution_count": 10,
   "id": "269e3fb8",
   "metadata": {},
   "outputs": [
    {
     "data": {
      "text/plain": [
       "45.25"
      ]
     },
     "execution_count": 10,
     "metadata": {},
     "output_type": "execute_result"
    }
   ],
   "source": [
    "abs(-45.25)"
   ]
  },
  {
   "cell_type": "code",
   "execution_count": null,
   "id": "e1ab685c",
   "metadata": {},
   "outputs": [],
   "source": []
  },
  {
   "cell_type": "code",
   "execution_count": 11,
   "id": "a7bd0e4b",
   "metadata": {},
   "outputs": [
    {
     "data": {
      "text/plain": [
       "True"
      ]
     },
     "execution_count": 11,
     "metadata": {},
     "output_type": "execute_result"
    }
   ],
   "source": [
    "x=[78,89,56]\n",
    "all(x)"
   ]
  },
  {
   "cell_type": "code",
   "execution_count": 12,
   "id": "65cb1dc1",
   "metadata": {},
   "outputs": [
    {
     "data": {
      "text/plain": [
       "True"
      ]
     },
     "execution_count": 12,
     "metadata": {},
     "output_type": "execute_result"
    }
   ],
   "source": [
    "any(x)"
   ]
  },
  {
   "cell_type": "code",
   "execution_count": 13,
   "id": "97e6e25e",
   "metadata": {},
   "outputs": [],
   "source": [
    "x.clear()"
   ]
  },
  {
   "cell_type": "code",
   "execution_count": 14,
   "id": "c090401e",
   "metadata": {},
   "outputs": [
    {
     "data": {
      "text/plain": [
       "False"
      ]
     },
     "execution_count": 14,
     "metadata": {},
     "output_type": "execute_result"
    }
   ],
   "source": [
    "any(x)"
   ]
  },
  {
   "cell_type": "code",
   "execution_count": 15,
   "id": "d826a6e1",
   "metadata": {},
   "outputs": [
    {
     "data": {
      "text/plain": [
       "True"
      ]
     },
     "execution_count": 15,
     "metadata": {},
     "output_type": "execute_result"
    }
   ],
   "source": [
    "all(x)"
   ]
  },
  {
   "cell_type": "code",
   "execution_count": 18,
   "id": "cf86dd99",
   "metadata": {},
   "outputs": [
    {
     "data": {
      "text/plain": [
       "'0b101101'"
      ]
     },
     "execution_count": 18,
     "metadata": {},
     "output_type": "execute_result"
    }
   ],
   "source": [
    "x=45\n",
    "bin(x)"
   ]
  },
  {
   "cell_type": "code",
   "execution_count": 20,
   "id": "02f3118d",
   "metadata": {},
   "outputs": [
    {
     "data": {
      "text/plain": [
       "bool"
      ]
     },
     "execution_count": 20,
     "metadata": {},
     "output_type": "execute_result"
    }
   ],
   "source": [
    "a=True\n",
    "type(a)"
   ]
  },
  {
   "cell_type": "code",
   "execution_count": 21,
   "id": "e45ffb4b",
   "metadata": {},
   "outputs": [
    {
     "data": {
      "text/plain": [
       "True"
      ]
     },
     "execution_count": 21,
     "metadata": {},
     "output_type": "execute_result"
    }
   ],
   "source": [
    "bool(45)"
   ]
  },
  {
   "cell_type": "code",
   "execution_count": 22,
   "id": "6a039b7c",
   "metadata": {},
   "outputs": [
    {
     "data": {
      "text/plain": [
       "bytearray(b'\\x00\\x00\\x00\\x00')"
      ]
     },
     "execution_count": 22,
     "metadata": {},
     "output_type": "execute_result"
    }
   ],
   "source": [
    "bytearray(4)"
   ]
  },
  {
   "cell_type": "code",
   "execution_count": 24,
   "id": "6e4a685b",
   "metadata": {},
   "outputs": [
    {
     "data": {
      "text/plain": [
       "False"
      ]
     },
     "execution_count": 24,
     "metadata": {},
     "output_type": "execute_result"
    }
   ],
   "source": [
    "a=45\n",
    "callable(a)"
   ]
  },
  {
   "cell_type": "code",
   "execution_count": 25,
   "id": "1ac3d8bd",
   "metadata": {},
   "outputs": [],
   "source": [
    "def add(a,b):\n",
    "    return a+b"
   ]
  },
  {
   "cell_type": "code",
   "execution_count": 26,
   "id": "bcfe9441",
   "metadata": {},
   "outputs": [
    {
     "data": {
      "text/plain": [
       "True"
      ]
     },
     "execution_count": 26,
     "metadata": {},
     "output_type": "execute_result"
    }
   ],
   "source": [
    "callable(add)"
   ]
  },
  {
   "cell_type": "code",
   "execution_count": 27,
   "id": "1a245920",
   "metadata": {},
   "outputs": [
    {
     "data": {
      "text/plain": [
       "(45+0j)"
      ]
     },
     "execution_count": 27,
     "metadata": {},
     "output_type": "execute_result"
    }
   ],
   "source": [
    "complex(45)"
   ]
  },
  {
   "cell_type": "code",
   "execution_count": 28,
   "id": "78ab15e6",
   "metadata": {},
   "outputs": [
    {
     "data": {
      "text/plain": [
       "(45+5j)"
      ]
     },
     "execution_count": 28,
     "metadata": {},
     "output_type": "execute_result"
    }
   ],
   "source": [
    "complex(45,5)"
   ]
  },
  {
   "cell_type": "code",
   "execution_count": 30,
   "id": "f5f02e66",
   "metadata": {},
   "outputs": [
    {
     "name": "stdout",
     "output_type": "stream",
     "text": [
      "hello python\n"
     ]
    }
   ],
   "source": [
    "a=45\n",
    "x=compile('print(\"hello python\")','test','eval')\n",
    "exec(x)"
   ]
  },
  {
   "cell_type": "code",
   "execution_count": 31,
   "id": "992915de",
   "metadata": {},
   "outputs": [
    {
     "data": {
      "text/plain": [
       "9"
      ]
     },
     "execution_count": 31,
     "metadata": {},
     "output_type": "execute_result"
    }
   ],
   "source": [
    "eval('4+5')"
   ]
  },
  {
   "cell_type": "code",
   "execution_count": 32,
   "id": "3b06fd9c",
   "metadata": {},
   "outputs": [
    {
     "data": {
      "text/plain": [
       "'a'"
      ]
     },
     "execution_count": 32,
     "metadata": {},
     "output_type": "execute_result"
    }
   ],
   "source": [
    "chr(97)"
   ]
  },
  {
   "cell_type": "code",
   "execution_count": 33,
   "id": "bac1acf6",
   "metadata": {},
   "outputs": [
    {
     "data": {
      "text/plain": [
       "(4+5j)"
      ]
     },
     "execution_count": 33,
     "metadata": {},
     "output_type": "execute_result"
    }
   ],
   "source": [
    "x=complex(4,5)\n",
    "x"
   ]
  },
  {
   "cell_type": "code",
   "execution_count": 35,
   "id": "4d58aabb",
   "metadata": {},
   "outputs": [
    {
     "name": "stdout",
     "output_type": "stream",
     "text": [
      "hello\n"
     ]
    }
   ],
   "source": [
    "eval(\"print('hello')\")"
   ]
  },
  {
   "cell_type": "code",
   "execution_count": 36,
   "id": "c1c69c8a",
   "metadata": {},
   "outputs": [
    {
     "data": {
      "text/plain": [
       "9"
      ]
     },
     "execution_count": 36,
     "metadata": {},
     "output_type": "execute_result"
    }
   ],
   "source": [
    "eval('add(4,5)')"
   ]
  },
  {
   "cell_type": "code",
   "execution_count": 39,
   "id": "f0f2f66c",
   "metadata": {},
   "outputs": [
    {
     "ename": "SyntaxError",
     "evalue": "invalid syntax (4111083579.py, line 2)",
     "output_type": "error",
     "traceback": [
      "\u001b[1;36m  Input \u001b[1;32mIn [39]\u001b[1;36m\u001b[0m\n\u001b[1;33m    x=filter(def x:x%2==0,a)\u001b[0m\n\u001b[1;37m             ^\u001b[0m\n\u001b[1;31mSyntaxError\u001b[0m\u001b[1;31m:\u001b[0m invalid syntax\n"
     ]
    }
   ],
   "source": [
    "a=[78,56,89,56,25,68,456]\n",
    "x=filter(def x:x%2==0,a)\n",
    "list(x)"
   ]
  },
  {
   "cell_type": "code",
   "execution_count": 42,
   "id": "69f2026d",
   "metadata": {},
   "outputs": [
    {
     "data": {
      "text/plain": [
       "[78, 56, 56, 68, 456]"
      ]
     },
     "execution_count": 42,
     "metadata": {},
     "output_type": "execute_result"
    }
   ],
   "source": [
    "def even(numbers):\n",
    "    if numbers % 2 == 0:\n",
    "        return True\n",
    "    return False\n",
    "x = filter(even, a)\n",
    "list(x)"
   ]
  },
  {
   "cell_type": "code",
   "execution_count": 43,
   "id": "7fc7bb64",
   "metadata": {},
   "outputs": [
    {
     "data": {
      "text/plain": [
       "'0x2d'"
      ]
     },
     "execution_count": 43,
     "metadata": {},
     "output_type": "execute_result"
    }
   ],
   "source": [
    "hex(45)"
   ]
  },
  {
   "cell_type": "code",
   "execution_count": 44,
   "id": "823d02ff",
   "metadata": {},
   "outputs": [
    {
     "data": {
      "text/plain": [
       "2072922379024"
      ]
     },
     "execution_count": 44,
     "metadata": {},
     "output_type": "execute_result"
    }
   ],
   "source": [
    "a=78\n",
    "id(a)"
   ]
  },
  {
   "cell_type": "code",
   "execution_count": 45,
   "id": "98ba170f",
   "metadata": {},
   "outputs": [],
   "source": [
    "b=int('45')"
   ]
  },
  {
   "cell_type": "code",
   "execution_count": 46,
   "id": "9dae87e4",
   "metadata": {},
   "outputs": [
    {
     "data": {
      "text/plain": [
       "int"
      ]
     },
     "execution_count": 46,
     "metadata": {},
     "output_type": "execute_result"
    }
   ],
   "source": [
    "type(b)"
   ]
  },
  {
   "cell_type": "code",
   "execution_count": 47,
   "id": "3dc2d239",
   "metadata": {},
   "outputs": [],
   "source": [
    "d=[78.8,89,56,26,258,456,9]"
   ]
  },
  {
   "cell_type": "code",
   "execution_count": 48,
   "id": "43d333b5",
   "metadata": {},
   "outputs": [
    {
     "data": {
      "text/plain": [
       "7"
      ]
     },
     "execution_count": 48,
     "metadata": {},
     "output_type": "execute_result"
    }
   ],
   "source": [
    "len(d)"
   ]
  },
  {
   "cell_type": "code",
   "execution_count": 50,
   "id": "29a213b4",
   "metadata": {},
   "outputs": [],
   "source": [
    "class A:\n",
    "    def __init__(self,a):\n",
    "        self.a = a\n",
    "    def printname(self):\n",
    "        return self.a\n",
    "class b(A):\n",
    "    def __init__(self,a,b):\n",
    "        super().__init__(a)\n",
    "        self.b=b\n",
    "    def printfullname(self):\n",
    "        print(self.a + \" \" + self.b)"
   ]
  },
  {
   "cell_type": "code",
   "execution_count": 51,
   "id": "5eadcd62",
   "metadata": {},
   "outputs": [
    {
     "name": "stdout",
     "output_type": "stream",
     "text": [
      "Ben Williams\n"
     ]
    }
   ],
   "source": [
    "obj = b('Ben', 'Williams')\n",
    "obj.printfullname()"
   ]
  },
  {
   "cell_type": "code",
   "execution_count": 52,
   "id": "57e279ab",
   "metadata": {},
   "outputs": [
    {
     "data": {
      "text/plain": [
       "'Ben'"
      ]
     },
     "execution_count": 52,
     "metadata": {},
     "output_type": "execute_result"
    }
   ],
   "source": [
    "obj.printname()"
   ]
  },
  {
   "cell_type": "code",
   "execution_count": 53,
   "id": "8750e2d4",
   "metadata": {},
   "outputs": [
    {
     "data": {
      "text/plain": [
       "[('cc', 782), ('age', 25), ('salary', 78459)]"
      ]
     },
     "execution_count": 53,
     "metadata": {},
     "output_type": "execute_result"
    }
   ],
   "source": [
    "a=(782,25,78459)\n",
    "b=('cc','age','salary')\n",
    "x=zip(b,a)\n",
    "list(x)"
   ]
  },
  {
   "cell_type": "code",
   "execution_count": 56,
   "id": "f3470448",
   "metadata": {},
   "outputs": [],
   "source": [
    "x=slice(0,4,2)\n",
    "data=(\"harsh\",785,25,2565.25)"
   ]
  },
  {
   "cell_type": "code",
   "execution_count": 57,
   "id": "30007d78",
   "metadata": {},
   "outputs": [
    {
     "name": "stdout",
     "output_type": "stream",
     "text": [
      "('harsh', 25)\n"
     ]
    }
   ],
   "source": [
    "print(data[x])"
   ]
  },
  {
   "cell_type": "code",
   "execution_count": 62,
   "id": "2d574f45",
   "metadata": {},
   "outputs": [
    {
     "data": {
      "text/plain": [
       "[4, 16, 36, 64, 100]"
      ]
     },
     "execution_count": 62,
     "metadata": {},
     "output_type": "execute_result"
    }
   ],
   "source": [
    "a=[1,2,3,4,5,6,7,8,9,10]\n",
    "def even(number):\n",
    "    if number%2==0:\n",
    "        return True\n",
    "    return False\n",
    "b = filter(even, a)\n",
    "x = list(b)\n",
    "def square(number):\n",
    "    return number**2\n",
    "squared = map(square, x)\n",
    "list(squared)"
   ]
  },
  {
   "cell_type": "code",
   "execution_count": 60,
   "id": "4ac87e14",
   "metadata": {},
   "outputs": [
    {
     "data": {
      "text/plain": [
       "[2, 4, 6, 8, 10]"
      ]
     },
     "execution_count": 60,
     "metadata": {},
     "output_type": "execute_result"
    }
   ],
   "source": [
    "x"
   ]
  },
  {
   "cell_type": "code",
   "execution_count": 64,
   "id": "fd1ef285",
   "metadata": {},
   "outputs": [
    {
     "data": {
      "text/plain": [
       "[4, 16, 36, 64, 100]"
      ]
     },
     "execution_count": 64,
     "metadata": {},
     "output_type": "execute_result"
    }
   ],
   "source": [
    "squared = map(square, filter(even, a))\n",
    "list(squared)"
   ]
  },
  {
   "cell_type": "code",
   "execution_count": 84,
   "id": "1bedfebf",
   "metadata": {},
   "outputs": [],
   "source": [
    "import csv\n",
    "file = open('Study Material\\Bank_churn_modelling - Copy.csv')"
   ]
  },
  {
   "cell_type": "code",
   "execution_count": 85,
   "id": "a2926901",
   "metadata": {},
   "outputs": [],
   "source": [
    "data = csv.reader(file)"
   ]
  },
  {
   "cell_type": "code",
   "execution_count": 87,
   "id": "b1a3f6ec",
   "metadata": {},
   "outputs": [
    {
     "ename": "AttributeError",
     "evalue": "'_csv.reader' object has no attribute 'headers'",
     "output_type": "error",
     "traceback": [
      "\u001b[1;31m---------------------------------------------------------------------------\u001b[0m",
      "\u001b[1;31mAttributeError\u001b[0m                            Traceback (most recent call last)",
      "Input \u001b[1;32mIn [87]\u001b[0m, in \u001b[0;36m<cell line: 1>\u001b[1;34m()\u001b[0m\n\u001b[1;32m----> 1\u001b[0m \u001b[43mdata\u001b[49m\u001b[38;5;241;43m.\u001b[39;49m\u001b[43mheaders\u001b[49m()\n",
      "\u001b[1;31mAttributeError\u001b[0m: '_csv.reader' object has no attribute 'headers'"
     ]
    }
   ],
   "source": [
    "data.headers()"
   ]
  },
  {
   "cell_type": "code",
   "execution_count": 88,
   "id": "908e01fa",
   "metadata": {},
   "outputs": [],
   "source": [
    "import os"
   ]
  },
  {
   "cell_type": "code",
   "execution_count": 89,
   "id": "9fe680ac",
   "metadata": {},
   "outputs": [
    {
     "data": {
      "text/plain": [
       "'C:\\\\Users\\\\willi\\\\Documents\\\\Python Scripts'"
      ]
     },
     "execution_count": 89,
     "metadata": {},
     "output_type": "execute_result"
    }
   ],
   "source": [
    "os.getcwd()"
   ]
  },
  {
   "cell_type": "code",
   "execution_count": 95,
   "id": "1f27995b",
   "metadata": {},
   "outputs": [
    {
     "name": "stdout",
     "output_type": "stream",
     "text": [
      "Writing my_module.py\n"
     ]
    }
   ],
   "source": [
    "%%writefile my_module.py\n",
    "\n",
    "new=455\n",
    "def add(a,b):\n",
    "    result=a+b\n",
    "    return result\n",
    "def multiply(a,b):\n",
    "    result = a*b\n",
    "    return result"
   ]
  },
  {
   "cell_type": "code",
   "execution_count": 96,
   "id": "f4202cb6",
   "metadata": {},
   "outputs": [],
   "source": [
    "import my_module"
   ]
  },
  {
   "cell_type": "code",
   "execution_count": 97,
   "id": "766dbd6f",
   "metadata": {},
   "outputs": [],
   "source": [
    "import my_module as mm"
   ]
  },
  {
   "cell_type": "code",
   "execution_count": 98,
   "id": "44dad059",
   "metadata": {},
   "outputs": [
    {
     "data": {
      "text/plain": [
       "90"
      ]
     },
     "execution_count": 98,
     "metadata": {},
     "output_type": "execute_result"
    }
   ],
   "source": [
    "mm.add(45,45)"
   ]
  },
  {
   "cell_type": "code",
   "execution_count": 99,
   "id": "06ec6422",
   "metadata": {},
   "outputs": [
    {
     "data": {
      "text/plain": [
       "306"
      ]
     },
     "execution_count": 99,
     "metadata": {},
     "output_type": "execute_result"
    }
   ],
   "source": [
    "mm.multiply(17,18)"
   ]
  },
  {
   "cell_type": "code",
   "execution_count": 127,
   "id": "4200fbd7",
   "metadata": {},
   "outputs": [
    {
     "name": "stdout",
     "output_type": "stream",
     "text": [
      "0\n",
      "1\n",
      "2\n",
      "3\n",
      "4\n",
      "5\n",
      "6\n",
      "7\n",
      "8\n",
      "9\n"
     ]
    },
    {
     "data": {
      "text/plain": [
       "[1057.34, 57, 34, 4525.25, True, 'data', 'new', 45, 45, 78]"
      ]
     },
     "execution_count": 127,
     "metadata": {},
     "output_type": "execute_result"
    }
   ],
   "source": [
    "data=[78,45,45,'new','data',True,4525.25, 34 , 57 , 1057.34]\n",
    "output = []\n",
    "\n",
    "for i in range(len(data)):\n",
    "    print(i)\n",
    "    output.insert(0,data[i])\n",
    "    \n",
    "output\n",
    "    "
   ]
  },
  {
   "cell_type": "code",
   "execution_count": 130,
   "id": "74dd2977",
   "metadata": {},
   "outputs": [
    {
     "data": {
      "text/plain": [
       "[34, 45, 45, 57, 78, 1057.34, 4525.25]"
      ]
     },
     "execution_count": 130,
     "metadata": {},
     "output_type": "execute_result"
    }
   ],
   "source": [
    "new_output = []\n",
    "\n",
    "for i in range(len(data)):\n",
    "    if type(data[i]) == int or type(data[i]) == float:\n",
    "        if len(new_output) == 0:\n",
    "            new_output.append(data[i])\n",
    "        else:\n",
    "            larger = 0\n",
    "            smaller = 0\n",
    "            for j in range(len(new_output)):\n",
    "                if data[i] > new_output[j]:\n",
    "                    larger = j+1\n",
    "                elif data[i] < new_output[j]:\n",
    "                    smaller = j+1\n",
    "            minus = larger - smaller\n",
    "            smaller += minus\n",
    "            new_output.insert(smaller, data[i])\n",
    "new_output"
   ]
  },
  {
   "cell_type": "code",
   "execution_count": 119,
   "id": "fcb049cc",
   "metadata": {},
   "outputs": [
    {
     "data": {
      "text/plain": [
       "False"
      ]
     },
     "execution_count": 119,
     "metadata": {},
     "output_type": "execute_result"
    }
   ],
   "source": [
    "78 > 4525.25"
   ]
  },
  {
   "cell_type": "code",
   "execution_count": 131,
   "id": "6c4ee483",
   "metadata": {},
   "outputs": [
    {
     "name": "stdout",
     "output_type": "stream",
     "text": [
      "[4525.25, True, 'data', 'new', 45, 45, 78, 1057.34, 57, 34]\n"
     ]
    }
   ],
   "source": [
    "out = []\n",
    "for i in range(len(data)):\n",
    "    out.append(data[6-i])\n",
    "print(out)"
   ]
  },
  {
   "cell_type": "code",
   "execution_count": 138,
   "id": "9ecfe12e",
   "metadata": {},
   "outputs": [
    {
     "ename": "SyntaxError",
     "evalue": "invalid syntax (3794081128.py, line 2)",
     "output_type": "error",
     "traceback": [
      "\u001b[1;36m  Input \u001b[1;32mIn [138]\u001b[1;36m\u001b[0m\n\u001b[1;33m    if str(i).isdigit() or i.isalnum\u001b[0m\n\u001b[1;37m                                    ^\u001b[0m\n\u001b[1;31mSyntaxError\u001b[0m\u001b[1;31m:\u001b[0m invalid syntax\n"
     ]
    }
   ],
   "source": [
    "for i in data:\n",
    "    if str(i).isdigit(\n",
    "        print(i)"
   ]
  },
  {
   "cell_type": "code",
   "execution_count": 143,
   "id": "d7d0ee69",
   "metadata": {},
   "outputs": [
    {
     "ename": "TypeError",
     "evalue": "'<' not supported between instances of 'float' and 'str'",
     "output_type": "error",
     "traceback": [
      "\u001b[1;31m---------------------------------------------------------------------------\u001b[0m",
      "\u001b[1;31mTypeError\u001b[0m                                 Traceback (most recent call last)",
      "Input \u001b[1;32mIn [143]\u001b[0m, in \u001b[0;36m<cell line: 1>\u001b[1;34m()\u001b[0m\n\u001b[0;32m      6\u001b[0m     \u001b[38;5;28;01mpass\u001b[39;00m\n\u001b[0;32m      7\u001b[0m \u001b[38;5;28;01melse\u001b[39;00m:\n\u001b[1;32m----> 8\u001b[0m     \u001b[38;5;28;01mif\u001b[39;00m \u001b[43mi\u001b[49m\u001b[43m \u001b[49m\u001b[38;5;241;43m<\u001b[39;49m\u001b[43m \u001b[49m\u001b[43mmv\u001b[49m:\n\u001b[0;32m      9\u001b[0m         mv\u001b[38;5;241m=\u001b[39mi\n\u001b[0;32m     10\u001b[0m     out\u001b[38;5;241m.\u001b[39mappend(mv)\n",
      "\u001b[1;31mTypeError\u001b[0m: '<' not supported between instances of 'float' and 'str'"
     ]
    }
   ],
   "source": [
    "while data:\n",
    "    out=[]\n",
    "    mv=data[0]\n",
    "    for i in data:\n",
    "        if str(i).isalpha():\n",
    "            pass\n",
    "        else:\n",
    "            if i < mv:\n",
    "                mv=i\n",
    "            out.append(mv)\n",
    "            data.remove(mv)"
   ]
  },
  {
   "cell_type": "code",
   "execution_count": 144,
   "id": "b5978fec",
   "metadata": {},
   "outputs": [
    {
     "name": "stdout",
     "output_type": "stream",
     "text": [
      "enter a value13\n",
      "enter b value0\n",
      "some exception\n"
     ]
    }
   ],
   "source": [
    "a=int(input(\"enter a value\"))\n",
    "b=int(input(\"enter b value\"))\n",
    "try:\n",
    "    print(a/b)\n",
    "except:\n",
    "    print(\"some exception\")"
   ]
  },
  {
   "cell_type": "code",
   "execution_count": 145,
   "id": "2951dc30",
   "metadata": {},
   "outputs": [
    {
     "name": "stdout",
     "output_type": "stream",
     "text": [
      "enter a value13\n",
      "enter b value0\n",
      "some exception\n"
     ]
    }
   ],
   "source": [
    "a=int(input(\"enter a value\"))\n",
    "b=int(input(\"enter b value\"))\n",
    "try:\n",
    "    c=a/b\n",
    "except:\n",
    "    print(\"some exception\")\n",
    "else:\n",
    "    print(c)\n",
    "    print(\"no exception\")"
   ]
  },
  {
   "cell_type": "code",
   "execution_count": 146,
   "id": "1d01b22e",
   "metadata": {},
   "outputs": [
    {
     "name": "stdout",
     "output_type": "stream",
     "text": [
      "enter a value13\n",
      "enter b value0\n",
      "some exception\n",
      "result:  0\n"
     ]
    }
   ],
   "source": [
    "a=int(input(\"enter a value\"))\n",
    "b=int(input(\"enter b value\"))\n",
    "try:\n",
    "    c=a/b\n",
    "except:\n",
    "    print(\"some exception\")\n",
    "else:\n",
    "    print(c)\n",
    "    print(\"no exception\")\n",
    "finally:\n",
    "    d=a*b\n",
    "    print(\"result: \",d)"
   ]
  },
  {
   "cell_type": "code",
   "execution_count": 147,
   "id": "0e17cf75",
   "metadata": {},
   "outputs": [
    {
     "name": "stdout",
     "output_type": "stream",
     "text": [
      "enter a value13\n",
      "enter b value0\n"
     ]
    },
    {
     "ename": "Exception",
     "evalue": "some exception",
     "output_type": "error",
     "traceback": [
      "\u001b[1;31m---------------------------------------------------------------------------\u001b[0m",
      "\u001b[1;31mException\u001b[0m                                 Traceback (most recent call last)",
      "Input \u001b[1;32mIn [147]\u001b[0m, in \u001b[0;36m<cell line: 3>\u001b[1;34m()\u001b[0m\n\u001b[0;32m      4\u001b[0m     \u001b[38;5;28mprint\u001b[39m(a\u001b[38;5;241m*\u001b[39mb)\n\u001b[0;32m      5\u001b[0m \u001b[38;5;28;01melse\u001b[39;00m:\n\u001b[1;32m----> 6\u001b[0m     \u001b[38;5;28;01mraise\u001b[39;00m \u001b[38;5;167;01mException\u001b[39;00m(\u001b[38;5;124m\"\u001b[39m\u001b[38;5;124msome exception\u001b[39m\u001b[38;5;124m\"\u001b[39m)\n",
      "\u001b[1;31mException\u001b[0m: some exception"
     ]
    }
   ],
   "source": [
    "a=int(input(\"enter a value\"))\n",
    "b=int(input(\"enter b value\"))\n",
    "if a<b:\n",
    "    print(a*b)\n",
    "else:\n",
    "    raise Exception(\"some exception\")"
   ]
  },
  {
   "cell_type": "code",
   "execution_count": 148,
   "id": "6a63c4e6",
   "metadata": {},
   "outputs": [
    {
     "data": {
      "text/plain": [
       "[5476, 2025, 3136, 625, 2304, 80910025, 4225, 400, 4]"
      ]
     },
     "execution_count": 148,
     "metadata": {},
     "output_type": "execute_result"
    }
   ],
   "source": [
    "a = [74,45,56,25,48,8995,65,20,2]\n",
    "[i**2 for i in a]"
   ]
  },
  {
   "cell_type": "code",
   "execution_count": 149,
   "id": "b8c64301",
   "metadata": {},
   "outputs": [
    {
     "name": "stdout",
     "output_type": "stream",
     "text": [
      "[74, 56, 48, 20, 2]\n"
     ]
    }
   ],
   "source": [
    "out = []\n",
    "for i in a:\n",
    "    if i%2==0:\n",
    "        out.append(i)\n",
    "print(out)"
   ]
  },
  {
   "cell_type": "code",
   "execution_count": 150,
   "id": "a2d37a2e",
   "metadata": {},
   "outputs": [
    {
     "data": {
      "text/plain": [
       "[74, 56, 48, 20, 2]"
      ]
     },
     "execution_count": 150,
     "metadata": {},
     "output_type": "execute_result"
    }
   ],
   "source": [
    "[i for i in a if i%2==0]"
   ]
  },
  {
   "cell_type": "code",
   "execution_count": 154,
   "id": "7ff33f4c",
   "metadata": {},
   "outputs": [
    {
     "data": {
      "text/plain": [
       "[5476, 2025, 3136, 625, 2304, 80910025, 4225, 400, 4]"
      ]
     },
     "execution_count": 154,
     "metadata": {},
     "output_type": "execute_result"
    }
   ],
   "source": [
    "z=lambda a:a**2\n",
    "[z(i) for i in a]"
   ]
  },
  {
   "cell_type": "code",
   "execution_count": 155,
   "id": "9ed6c9bb",
   "metadata": {},
   "outputs": [],
   "source": [
    "a = [5,2,6,8,9,7]"
   ]
  },
  {
   "cell_type": "code",
   "execution_count": 156,
   "id": "41eaa8f5",
   "metadata": {},
   "outputs": [
    {
     "data": {
      "text/plain": [
       "[25, 4, 36, 64, 81, 49]"
      ]
     },
     "execution_count": 156,
     "metadata": {},
     "output_type": "execute_result"
    }
   ],
   "source": [
    "[i**2 for i in a]"
   ]
  },
  {
   "cell_type": "code",
   "execution_count": 157,
   "id": "9ef65e3e",
   "metadata": {},
   "outputs": [],
   "source": [
    "def add(a):\n",
    "    return a + 56"
   ]
  },
  {
   "cell_type": "code",
   "execution_count": 158,
   "id": "b82e807d",
   "metadata": {},
   "outputs": [
    {
     "data": {
      "text/plain": [
       "[61, 58, 62, 64, 65, 63]"
      ]
     },
     "execution_count": 158,
     "metadata": {},
     "output_type": "execute_result"
    }
   ],
   "source": [
    "[add(i) for i in a]"
   ]
  },
  {
   "cell_type": "code",
   "execution_count": 159,
   "id": "8ebb6f2d",
   "metadata": {},
   "outputs": [
    {
     "data": {
      "text/plain": [
       "[5, 2, 6, 8, 9, 7]"
      ]
     },
     "execution_count": 159,
     "metadata": {},
     "output_type": "execute_result"
    }
   ],
   "source": [
    "a"
   ]
  },
  {
   "cell_type": "code",
   "execution_count": 160,
   "id": "7aa3b3d6",
   "metadata": {},
   "outputs": [
    {
     "data": {
      "text/plain": [
       "[25, 4, 36, 64, 81, 49]"
      ]
     },
     "execution_count": 160,
     "metadata": {},
     "output_type": "execute_result"
    }
   ],
   "source": [
    "x=lambda a:a**2\n",
    "[x(i) for i in a]"
   ]
  },
  {
   "cell_type": "code",
   "execution_count": 161,
   "id": "78b3de23",
   "metadata": {},
   "outputs": [
    {
     "name": "stdout",
     "output_type": "stream",
     "text": [
      "Writing test.py\n"
     ]
    }
   ],
   "source": [
    "%%writefile test.py\n",
    "\n",
    "def add(a,b):\n",
    "    return a+b"
   ]
  },
  {
   "cell_type": "code",
   "execution_count": 162,
   "id": "f4cda8dc",
   "metadata": {},
   "outputs": [],
   "source": [
    "os.remove('test.py')"
   ]
  },
  {
   "cell_type": "code",
   "execution_count": null,
   "id": "9ea46513",
   "metadata": {},
   "outputs": [],
   "source": []
  }
 ],
 "metadata": {
  "kernelspec": {
   "display_name": "Python 3 (ipykernel)",
   "language": "python",
   "name": "python3"
  },
  "language_info": {
   "codemirror_mode": {
    "name": "ipython",
    "version": 3
   },
   "file_extension": ".py",
   "mimetype": "text/x-python",
   "name": "python",
   "nbconvert_exporter": "python",
   "pygments_lexer": "ipython3",
   "version": "3.9.12"
  }
 },
 "nbformat": 4,
 "nbformat_minor": 5
}
