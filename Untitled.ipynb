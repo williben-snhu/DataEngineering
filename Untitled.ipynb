{
 "cells": [
  {
   "cell_type": "code",
   "execution_count": 1,
   "id": "dcd48fb5",
   "metadata": {},
   "outputs": [],
   "source": [
    "test=[\"data\", \"Machine learning\",\"Internet of things\",\"blockchain\",\"bigdata analytics\"]"
   ]
  },
  {
   "cell_type": "code",
   "execution_count": 4,
   "id": "c8349050",
   "metadata": {},
   "outputs": [
    {
     "name": "stdout",
     "output_type": "stream",
     "text": [
      "DATA\n",
      "MACHINE LEARNING\n",
      "INTERNET OF THINGS\n",
      "BLOCKCHAIN\n",
      "BIGDATA ANALYTICS\n"
     ]
    }
   ],
   "source": [
    "for z in test:\n",
    "    print(z.upper())"
   ]
  },
  {
   "cell_type": "code",
   "execution_count": 5,
   "id": "a3eb8562",
   "metadata": {},
   "outputs": [
    {
     "data": {
      "text/plain": [
       "['data',\n",
       " 'Machine learning',\n",
       " 'Internet of things',\n",
       " 'blockchain',\n",
       " 'bigdata analytics']"
      ]
     },
     "execution_count": 5,
     "metadata": {},
     "output_type": "execute_result"
    }
   ],
   "source": [
    "test"
   ]
  },
  {
   "cell_type": "code",
   "execution_count": 6,
   "id": "4c10f871",
   "metadata": {},
   "outputs": [],
   "source": [
    "output = []\n",
    "for z in test:\n",
    "    output.append(z.upper())"
   ]
  },
  {
   "cell_type": "code",
   "execution_count": 7,
   "id": "73e74ff9",
   "metadata": {},
   "outputs": [
    {
     "data": {
      "text/plain": [
       "['DATA',\n",
       " 'MACHINE LEARNING',\n",
       " 'INTERNET OF THINGS',\n",
       " 'BLOCKCHAIN',\n",
       " 'BIGDATA ANALYTICS']"
      ]
     },
     "execution_count": 7,
     "metadata": {},
     "output_type": "execute_result"
    }
   ],
   "source": [
    "output"
   ]
  },
  {
   "cell_type": "code",
   "execution_count": 8,
   "id": "5cf04c49",
   "metadata": {},
   "outputs": [
    {
     "data": {
      "text/plain": [
       "[0, 2, 4, 6, 8, 10, 12, 14, 16, 18]"
      ]
     },
     "execution_count": 8,
     "metadata": {},
     "output_type": "execute_result"
    }
   ],
   "source": [
    "list(range(0,20,2))"
   ]
  },
  {
   "cell_type": "code",
   "execution_count": 15,
   "id": "e38b4673",
   "metadata": {},
   "outputs": [],
   "source": [
    "#python code which will return dict where keys 1 to 10 and value will be their square\n",
    "keys = list(range(1,10,1))\n",
    "values = []\n",
    "y = 0;\n",
    "dict = {}\n",
    "for x in keys:\n",
    "    values.append(x**2)\n",
    "for x in keys:\n",
    "    dict[x] = values[y]\n",
    "    y += 1"
   ]
  },
  {
   "cell_type": "code",
   "execution_count": 16,
   "id": "878d6fe4",
   "metadata": {},
   "outputs": [
    {
     "data": {
      "text/plain": [
       "{1: 1, 2: 4, 3: 9, 4: 16, 5: 25, 6: 36, 7: 49, 8: 64, 9: 81}"
      ]
     },
     "execution_count": 16,
     "metadata": {},
     "output_type": "execute_result"
    }
   ],
   "source": [
    "dict"
   ]
  },
  {
   "cell_type": "code",
   "execution_count": 17,
   "id": "f1bf7c70",
   "metadata": {},
   "outputs": [],
   "source": [
    "data={}\n",
    "for i in range(1,11):\n",
    "    data[i]=i**2"
   ]
  },
  {
   "cell_type": "code",
   "execution_count": 18,
   "id": "ce191d12",
   "metadata": {},
   "outputs": [
    {
     "data": {
      "text/plain": [
       "{1: 1, 2: 4, 3: 9, 4: 16, 5: 25, 6: 36, 7: 49, 8: 64, 9: 81, 10: 100}"
      ]
     },
     "execution_count": 18,
     "metadata": {},
     "output_type": "execute_result"
    }
   ],
   "source": [
    "data"
   ]
  },
  {
   "cell_type": "code",
   "execution_count": 30,
   "id": "32767c3f",
   "metadata": {},
   "outputs": [
    {
     "data": {
      "text/plain": [
       "[562, 458, 652]"
      ]
     },
     "execution_count": 30,
     "metadata": {},
     "output_type": "execute_result"
    }
   ],
   "source": [
    "a=[895,562,458,\"data\",45,652,45,\"AI\"]\n",
    "output = []\n",
    "for x in a:\n",
    "    if type(x) != int:\n",
    "        a.remove(x)\n",
    "    else:\n",
    "        if x%2 == 0:\n",
    "            output.append(x)\n",
    "output"
   ]
  },
  {
   "cell_type": "code",
   "execution_count": 31,
   "id": "550632ef",
   "metadata": {},
   "outputs": [],
   "source": [
    "data = \"\"\"\n",
    "it does not metter\n",
    "no matter\n",
    "don't give up\n",
    "world map\n",
    "when you feel like quiting\n",
    "\"\"\""
   ]
  },
  {
   "cell_type": "code",
   "execution_count": 44,
   "id": "971ce149",
   "metadata": {},
   "outputs": [
    {
     "data": {
      "text/plain": [
       "[['', 'it'],\n",
       " ['does'],\n",
       " ['not'],\n",
       " ['metter', 'no'],\n",
       " ['matter', \"don't\"],\n",
       " ['give'],\n",
       " ['up', 'world'],\n",
       " ['map', 'when'],\n",
       " ['you'],\n",
       " ['feel'],\n",
       " ['like'],\n",
       " ['quiting', '']]"
      ]
     },
     "execution_count": 44,
     "metadata": {},
     "output_type": "execute_result"
    }
   ],
   "source": [
    "newdata = []\n",
    "newdata = data.rsplit(\" \")\n",
    "new = []\n",
    "for x in newdata:\n",
    "    new.append(x.rsplit(\"\\n\"))\n",
    "    \n",
    "new"
   ]
  },
  {
   "cell_type": "code",
   "execution_count": 58,
   "id": "f6b9b94d",
   "metadata": {},
   "outputs": [
    {
     "name": "stdout",
     "output_type": "stream",
     "text": [
      "Enter string herehello world123\n",
      "digit: 3\n",
      "letters: 10\n"
     ]
    }
   ],
   "source": [
    "string = input(\"Enter string here\")\n",
    "new = []\n",
    "digits = 0\n",
    "letters = 0\n",
    "for i in string:\n",
    "    if i != \" \":\n",
    "        new.append(i)\n",
    "for i in new:\n",
    "    if i.isdigit() == True:\n",
    "        digits += 1\n",
    "    else:\n",
    "        letters += 1\n",
    "print(\"digit: \" + str(digits))\n",
    "print(\"letters: \" + str(letters))"
   ]
  },
  {
   "cell_type": "code",
   "execution_count": 60,
   "id": "2199bca8",
   "metadata": {},
   "outputs": [
    {
     "data": {
      "text/plain": [
       "'hello'"
      ]
     },
     "execution_count": 60,
     "metadata": {},
     "output_type": "execute_result"
    }
   ],
   "source": [
    "#function\n",
    "\n",
    "def myFunction():\n",
    "    return \"hello\"\n",
    "myFunction()"
   ]
  },
  {
   "cell_type": "code",
   "execution_count": 61,
   "id": "6c12ca3f",
   "metadata": {},
   "outputs": [
    {
     "name": "stdout",
     "output_type": "stream",
     "text": [
      "9\n"
     ]
    }
   ],
   "source": [
    "def add(a, b):\n",
    "    print(a + b)\n",
    "add(4, 5)"
   ]
  },
  {
   "cell_type": "code",
   "execution_count": 62,
   "id": "106aaa64",
   "metadata": {},
   "outputs": [
    {
     "name": "stdout",
     "output_type": "stream",
     "text": [
      "50\n"
     ]
    }
   ],
   "source": [
    "add(a=5, b=45)"
   ]
  },
  {
   "cell_type": "code",
   "execution_count": 63,
   "id": "33f4d9ac",
   "metadata": {},
   "outputs": [
    {
     "data": {
      "text/plain": [
       "[895, 562, 458, 45, 652, 45]"
      ]
     },
     "execution_count": 63,
     "metadata": {},
     "output_type": "execute_result"
    }
   ],
   "source": [
    "a"
   ]
  },
  {
   "cell_type": "code",
   "execution_count": 65,
   "id": "f2e1e7d9",
   "metadata": {},
   "outputs": [],
   "source": [
    "a = 45 #global variable"
   ]
  },
  {
   "cell_type": "code",
   "execution_count": 75,
   "id": "63d4219d",
   "metadata": {},
   "outputs": [],
   "source": [
    "z = 78\n",
    "def add(a, b):\n",
    "    global r,q\n",
    "    q = a + b\n",
    "    r = z + q\n",
    "    print(r)"
   ]
  },
  {
   "cell_type": "code",
   "execution_count": 76,
   "id": "d5026a79",
   "metadata": {},
   "outputs": [
    {
     "name": "stdout",
     "output_type": "stream",
     "text": [
      "238\n"
     ]
    }
   ],
   "source": [
    "add(80, 80)"
   ]
  },
  {
   "cell_type": "code",
   "execution_count": 77,
   "id": "62560d06",
   "metadata": {},
   "outputs": [
    {
     "name": "stdout",
     "output_type": "stream",
     "text": [
      "160\n"
     ]
    }
   ],
   "source": [
    "print(q)"
   ]
  },
  {
   "cell_type": "code",
   "execution_count": 78,
   "id": "ad223796",
   "metadata": {},
   "outputs": [
    {
     "name": "stdout",
     "output_type": "stream",
     "text": [
      "45\n"
     ]
    }
   ],
   "source": [
    "print(a)"
   ]
  },
  {
   "cell_type": "code",
   "execution_count": 79,
   "id": "60f5aa19",
   "metadata": {},
   "outputs": [
    {
     "name": "stdout",
     "output_type": "stream",
     "text": [
      "238\n"
     ]
    }
   ],
   "source": [
    "print(r)"
   ]
  },
  {
   "cell_type": "code",
   "execution_count": 83,
   "id": "e9903265",
   "metadata": {},
   "outputs": [],
   "source": [
    "# The asterik allows the user to pass as much data as they want\n",
    "def add(*a):\n",
    "    print(a)\n",
    "    print(sum(a))"
   ]
  },
  {
   "cell_type": "code",
   "execution_count": 84,
   "id": "7d27bf5d",
   "metadata": {},
   "outputs": [
    {
     "name": "stdout",
     "output_type": "stream",
     "text": [
      "(45.78, 56, 89, 56, 23, 56, 78, 56)\n",
      "459.78\n"
     ]
    }
   ],
   "source": [
    "add(45.78,56,89,56,23,56,78,56)"
   ]
  },
  {
   "cell_type": "code",
   "execution_count": 85,
   "id": "0ee2cce8",
   "metadata": {},
   "outputs": [],
   "source": [
    "def add(**a):\n",
    "    print(a)\n",
    "    print(sum(a.values()))"
   ]
  },
  {
   "cell_type": "code",
   "execution_count": 86,
   "id": "2f4aa223",
   "metadata": {},
   "outputs": [
    {
     "ename": "TypeError",
     "evalue": "add() takes 0 positional arguments but 8 were given",
     "output_type": "error",
     "traceback": [
      "\u001b[1;31m---------------------------------------------------------------------------\u001b[0m",
      "\u001b[1;31mTypeError\u001b[0m                                 Traceback (most recent call last)",
      "Input \u001b[1;32mIn [86]\u001b[0m, in \u001b[0;36m<cell line: 1>\u001b[1;34m()\u001b[0m\n\u001b[1;32m----> 1\u001b[0m \u001b[43madd\u001b[49m\u001b[43m(\u001b[49m\u001b[38;5;241;43m45.78\u001b[39;49m\u001b[43m,\u001b[49m\u001b[38;5;241;43m56\u001b[39;49m\u001b[43m,\u001b[49m\u001b[38;5;241;43m89\u001b[39;49m\u001b[43m,\u001b[49m\u001b[38;5;241;43m56\u001b[39;49m\u001b[43m,\u001b[49m\u001b[38;5;241;43m23\u001b[39;49m\u001b[43m,\u001b[49m\u001b[38;5;241;43m56\u001b[39;49m\u001b[43m,\u001b[49m\u001b[38;5;241;43m78\u001b[39;49m\u001b[43m,\u001b[49m\u001b[38;5;241;43m56\u001b[39;49m\u001b[43m)\u001b[49m\n",
      "\u001b[1;31mTypeError\u001b[0m: add() takes 0 positional arguments but 8 were given"
     ]
    }
   ],
   "source": [
    "add(45.78,56,89,56,23,56,78,56)"
   ]
  },
  {
   "cell_type": "code",
   "execution_count": 87,
   "id": "696762ae",
   "metadata": {},
   "outputs": [
    {
     "name": "stdout",
     "output_type": "stream",
     "text": [
      "{'z': 78, 'x': 89, 'y': 56, 'm': 26}\n",
      "249\n"
     ]
    }
   ],
   "source": [
    "add(z=78, x=89, y=56, m=26)"
   ]
  },
  {
   "cell_type": "code",
   "execution_count": 91,
   "id": "31ea7de0",
   "metadata": {},
   "outputs": [
    {
     "name": "stdout",
     "output_type": "stream",
     "text": [
      "Enter a value45\n",
      "Enter b value7\n",
      "Enter 1 for subrtraction, 2 for addition, 3 for division, 4 for multiplaction, or 5 to quit2\n",
      "52\n",
      "Enter a value45\n",
      "Enter b value7\n",
      "Enter 1 for subrtraction, 2 for addition, 3 for division, 4 for multiplaction, or 5 to quit5\n"
     ]
    }
   ],
   "source": [
    "def calculator(a, b, value):\n",
    "    if value == 1:\n",
    "        print(a-b)\n",
    "    elif value == 2:\n",
    "        print(a+b)\n",
    "    elif value == 3:\n",
    "        print(a/b)\n",
    "    elif value ==4:\n",
    "        print(a*b)\n",
    "while True:\n",
    "    a = int(input(\"Enter a value\"))\n",
    "    b = int(input(\"Enter b value\"))\n",
    "    value = int(input(\"Enter 1 for subrtraction, 2 for addition, 3 for division, 4 for multiplaction, or 5 to quit\"))\n",
    "    if value == 5:\n",
    "        break\n",
    "    calculator(a, b, value)"
   ]
  },
  {
   "cell_type": "code",
   "execution_count": 92,
   "id": "50ce51cb",
   "metadata": {},
   "outputs": [],
   "source": [
    "def add(a, b):\n",
    "    return a + b\n",
    "def sub(a, b):\n",
    "    return a - b\n",
    "def div(a, b):\n",
    "    return a / b\n",
    "def multi(a, b):\n",
    "    return a * b"
   ]
  },
  {
   "cell_type": "code",
   "execution_count": 100,
   "id": "83c2c146",
   "metadata": {},
   "outputs": [],
   "source": [
    "class python:\n",
    "    # __ two underscore makes it private\n",
    "    \n",
    "    def __init__(self, a, b):\n",
    "        self.a = a\n",
    "        self.b = b\n",
    "    \n",
    "    def add(self):\n",
    "        return self.a + self.b\n",
    "    def sub(self):\n",
    "        return self.a - self.b\n",
    "    def div(self):\n",
    "        return self.a / self.b\n",
    "    def multiply(self):\n",
    "        return self.a * self.b"
   ]
  },
  {
   "cell_type": "code",
   "execution_count": 94,
   "id": "b6e9cb40",
   "metadata": {},
   "outputs": [],
   "source": [
    "object1 = python(45, 55)"
   ]
  },
  {
   "cell_type": "code",
   "execution_count": 95,
   "id": "caeb9a8a",
   "metadata": {},
   "outputs": [
    {
     "data": {
      "text/plain": [
       "45"
      ]
     },
     "execution_count": 95,
     "metadata": {},
     "output_type": "execute_result"
    }
   ],
   "source": [
    "object1.a"
   ]
  },
  {
   "cell_type": "code",
   "execution_count": 96,
   "id": "6599420b",
   "metadata": {},
   "outputs": [
    {
     "data": {
      "text/plain": [
       "55"
      ]
     },
     "execution_count": 96,
     "metadata": {},
     "output_type": "execute_result"
    }
   ],
   "source": [
    "object1.b"
   ]
  },
  {
   "cell_type": "code",
   "execution_count": 98,
   "id": "b03319e3",
   "metadata": {},
   "outputs": [
    {
     "data": {
      "text/plain": [
       "100"
      ]
     },
     "execution_count": 98,
     "metadata": {},
     "output_type": "execute_result"
    }
   ],
   "source": [
    "object1.add()"
   ]
  },
  {
   "cell_type": "code",
   "execution_count": 99,
   "id": "c2b797a9",
   "metadata": {},
   "outputs": [
    {
     "data": {
      "text/plain": [
       "-10"
      ]
     },
     "execution_count": 99,
     "metadata": {},
     "output_type": "execute_result"
    }
   ],
   "source": [
    "object1.sub()"
   ]
  },
  {
   "cell_type": "code",
   "execution_count": 101,
   "id": "50b1a3b9",
   "metadata": {},
   "outputs": [],
   "source": [
    "class new:\n",
    "    a = 45"
   ]
  },
  {
   "cell_type": "code",
   "execution_count": 103,
   "id": "d463d62d",
   "metadata": {},
   "outputs": [],
   "source": [
    "obj = new()"
   ]
  },
  {
   "cell_type": "code",
   "execution_count": 104,
   "id": "2450f4ba",
   "metadata": {},
   "outputs": [
    {
     "data": {
      "text/plain": [
       "45"
      ]
     },
     "execution_count": 104,
     "metadata": {},
     "output_type": "execute_result"
    }
   ],
   "source": [
    "obj.a"
   ]
  },
  {
   "cell_type": "code",
   "execution_count": 105,
   "id": "2298b714",
   "metadata": {},
   "outputs": [
    {
     "data": {
      "text/plain": [
       "__main__.new"
      ]
     },
     "execution_count": 105,
     "metadata": {},
     "output_type": "execute_result"
    }
   ],
   "source": [
    "type(obj)"
   ]
  },
  {
   "cell_type": "code",
   "execution_count": 106,
   "id": "ca7da609",
   "metadata": {},
   "outputs": [
    {
     "data": {
      "text/plain": [
       "int"
      ]
     },
     "execution_count": 106,
     "metadata": {},
     "output_type": "execute_result"
    }
   ],
   "source": [
    "type(obj.a)"
   ]
  },
  {
   "cell_type": "code",
   "execution_count": 107,
   "id": "da5eef43",
   "metadata": {},
   "outputs": [],
   "source": [
    "#Define a class name circle which can be constructed by a radius\n",
    "#The circle class has a method which can compute the area"
   ]
  },
  {
   "cell_type": "code",
   "execution_count": 108,
   "id": "ee2582e8",
   "metadata": {},
   "outputs": [],
   "source": [
    "class circle:\n",
    "    \n",
    "    def __init__(self, radius):\n",
    "        self.radius = radius\n",
    "    \n",
    "    def area(self):\n",
    "        return 3.14 * self.radius**2"
   ]
  },
  {
   "cell_type": "code",
   "execution_count": 110,
   "id": "1c8ed15d",
   "metadata": {},
   "outputs": [],
   "source": [
    "obj = circle(20)"
   ]
  },
  {
   "cell_type": "code",
   "execution_count": 111,
   "id": "af14fc21",
   "metadata": {},
   "outputs": [
    {
     "data": {
      "text/plain": [
       "1256.0"
      ]
     },
     "execution_count": 111,
     "metadata": {},
     "output_type": "execute_result"
    }
   ],
   "source": [
    "obj.area()"
   ]
  },
  {
   "cell_type": "code",
   "execution_count": null,
   "id": "6bc8eb34",
   "metadata": {},
   "outputs": [],
   "source": []
  }
 ],
 "metadata": {
  "kernelspec": {
   "display_name": "Python 3 (ipykernel)",
   "language": "python",
   "name": "python3"
  },
  "language_info": {
   "codemirror_mode": {
    "name": "ipython",
    "version": 3
   },
   "file_extension": ".py",
   "mimetype": "text/x-python",
   "name": "python",
   "nbconvert_exporter": "python",
   "pygments_lexer": "ipython3",
   "version": "3.9.12"
  }
 },
 "nbformat": 4,
 "nbformat_minor": 5
}
